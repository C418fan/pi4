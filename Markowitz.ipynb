{
  "nbformat": 4,
  "nbformat_minor": 0,
  "metadata": {
    "colab": {
      "provenance": [],
      "authorship_tag": "ABX9TyPSbsfCfiT/8qQ0GinE8+PY",
      "include_colab_link": true
    },
    "kernelspec": {
      "name": "python3",
      "display_name": "Python 3"
    },
    "language_info": {
      "name": "python"
    }
  },
  "cells": [
    {
      "cell_type": "markdown",
      "metadata": {
        "id": "view-in-github",
        "colab_type": "text"
      },
      "source": [
        "<a href=\"https://colab.research.google.com/github/bhferreira84/Markowitz/blob/main/Markowitz.ipynb\" target=\"_parent\"><img src=\"https://colab.research.google.com/assets/colab-badge.svg\" alt=\"Open In Colab\"/></a>"
      ]
    },
    {
      "cell_type": "code",
      "source": [],
      "metadata": {
        "id": "aPpnkUm5kNAo"
      },
      "execution_count": null,
      "outputs": []
    },
    {
      "cell_type": "code",
      "source": [
        "import numpy as np\n",
        "import pandas as pd\n",
        "import yfinance as yf\n",
        "import matplotlib.pyplot as plt\n",
        "from scipy.optimize import minimize\n",
        "\n",
        "# -*- coding: utf-8 -*-\n",
        "\n",
        "import plotly.graph_objects as go\n",
        "inicio=\"2021-01-01\"\n",
        "fim=\"2022-01-01\"\n",
        "\n",
        "def obter_dados_ativos(tickers,benchmark):\n",
        "    \"\"\"\n",
        "    Obtém dados históricos de fechamento dos ativos e do benchmark usando Yahoo Finance.\n",
        "    \"\"\"\n",
        "    dados = yf.download(tickers, start=start, end=end, auto_adjust=False)['Adj Close']\n",
        "    benchmark = yf.download(benchmark, start=start, end=end, auto_adjust=False)['Adj Close']\n",
        "    return dados.dropna(),benchmark.dropna()\n",
        "\n",
        "def calcular_retornos(dados):\n",
        "    \"\"\"\n",
        "    Calcula retornos compostos dos ativos e do índice e estatísticas necessárias.\n",
        "    \"\"\"\n",
        "    retornos_ativos = dados[0].pct_change().dropna()\n",
        "    retornos_benchmark = dados[1].pct_change().dropna()\n",
        "    #retorno_esperado_ativos = retornos_ativos.mean() * 252\n",
        "    retorno_esperado_ativos = (retornos_ativos.mean() + 1) ** 252 - 1\n",
        "    retorno_esperado_benchmark = (retornos_benchmark.mean() + 1) ** 252 - 1\n",
        "    variancia_benchmark = retornos_benchmark.var()\n",
        "    matriz_cov = retornos_ativos.cov() * 252\n",
        "    return retorno_esperado_ativos, matriz_cov, retorno_esperado_benchmark, variancia_benchmark\n",
        "\n",
        "def calcular_variancia(pesos, matriz_cov):\n",
        "    \"\"\"\n",
        "    Calcula a variância do portfólio.\n",
        "    \"\"\"\n",
        "    return np.dot(pesos.T, np.dot(matriz_cov, pesos))\n",
        "\n",
        "def calcular_retorno_portfolio(pesos, retorno_esperado_ativos):\n",
        "    \"\"\"\n",
        "    Calcula o retorno esperado do portfólio.\n",
        "    \"\"\"\n",
        "    return np.dot(pesos, retorno_esperado_ativos)\n",
        "\n",
        "def calcular_sharpe_ratio(pesos, retorno_esperado_ativos, matriz_cov, taxa_livre_risco):\n",
        "    \"\"\"\n",
        "    Calcula o Índice de Sharpe do portfólio.\n",
        "    \"\"\"\n",
        "    retorno_portfolio = calcular_retorno_portfolio(pesos, retorno_esperado_ativos)\n",
        "    volatilidade_portfolio = np.sqrt(calcular_variancia(pesos, matriz_cov))\n",
        "    return (retorno_portfolio - taxa_livre_risco) / volatilidade_portfolio\n",
        "\n",
        "def otimizar_portfolio(retorno_alvo, retorno_esperado_ativos, matriz_cov):\n",
        "    \"\"\"\n",
        "    Otimiza os pesos para mínimo risco dado um retorno alvo.\n",
        "    \"\"\"\n",
        "    n_ativos = len(retorno_esperado_ativos)\n",
        "    args = (matriz_cov,)\n",
        "    constraints = (\n",
        "        {'type': 'eq', 'fun': lambda x: np.sum(x) - 1},\n",
        "        {'type': 'eq', 'fun': lambda x: calcular_retorno_portfolio(x, retorno_esperado_ativos) - retorno_alvo}\n",
        "    )\n",
        "    bounds = tuple((0, 1) for _ in range(n_ativos))\n",
        "    resultado = minimize(calcular_variancia, n_ativos * [1/n_ativos], args=args,\n",
        "                        method='SLSQP', bounds=bounds, constraints=constraints)\n",
        "    return resultado.x\n",
        "\n",
        "def otimizar_sharpe_ratio(retorno_esperado_ativos, matriz_cov, taxa_livre_risco):\n",
        "    \"\"\"\n",
        "    Otimiza os pesos para máximo Índice de Sharpe.\n",
        "    \"\"\"\n",
        "    n_ativos = len(retorno_esperado_ativos)\n",
        "    args = (retorno_esperado_ativos, matriz_cov, taxa_livre_risco)\n",
        "    constraints = ({'type': 'eq', 'fun': lambda x: np.sum(x) - 1})\n",
        "    bounds = tuple((0, 1) for _ in range(n_ativos))\n",
        "    resultado = minimize(lambda x: -calcular_sharpe_ratio(x, *args), n_ativos * [1/n_ativos],\n",
        "                        method='SLSQP', bounds=bounds, constraints=constraints)\n",
        "    return resultado.x\n",
        "\n",
        "def fronteira_eficiente(retorno_esperado_ativos, matriz_cov, n_pontos=100):\n",
        "    \"\"\"\n",
        "    Gera pontos da fronteira eficiente.\n",
        "    \"\"\"\n",
        "    retornos_alvo = np.linspace(retorno_esperado_ativos.min(), retorno_esperado_ativos.max(), n_pontos)\n",
        "    volatilidades = []\n",
        "    pesos = []\n",
        "\n",
        "    for retorno in retornos_alvo:\n",
        "        peso = otimizar_portfolio(retorno, retorno_esperado_ativos, matriz_cov)\n",
        "        pesos.append(peso)\n",
        "        volatilidades.append(np.sqrt(calcular_variancia(peso, matriz_cov)))\n",
        "\n",
        "    return retornos_alvo, volatilidades, np.array(pesos)\n",
        "\n",
        "def plotar_fronteira_interativa(retornos_alvo, volatilidades, retorno_esperado_ativos, matriz_cov, pesos_max_sharpe, taxa_livre_risco):\n",
        "    \"\"\"\n",
        "    Plota a fronteira eficiente de forma interativa com Plotly.\n",
        "    \"\"\"\n",
        "    # Cálculo do portfólio de máxima Sharpe\n",
        "    retorno_max_sharpe = calcular_retorno_portfolio(pesos_max_sharpe, retorno_esperado_ativos)\n",
        "    volatilidade_max_sharpe = np.sqrt(calcular_variancia(pesos_max_sharpe, matriz_cov))\n",
        "\n",
        "    # Criação do gráfico\n",
        "    fig = go.Figure()\n",
        "\n",
        "    # Fronteira Eficiente\n",
        "    fig.add_trace(go.Scatter(\n",
        "        x=volatilidades,\n",
        "        y=retornos_alvo,\n",
        "        mode='lines+markers',\n",
        "        name='Fronteira Eficiente',\n",
        "        line=dict(color='blue', width=2),\n",
        "        marker=dict(size=5),\n",
        "        hovertemplate=\"<b>Volatilidade:</b> %{x:.2%}<br><b>Retorno:</b> %{y:.2%}<extra></extra>\"\n",
        "    ))\n",
        "\n",
        "    # Portfólio de Mínima Variância\n",
        "    idx_min_var = np.argmin(volatilidades)\n",
        "    fig.add_trace(go.Scatter(\n",
        "        x=[volatilidades[idx_min_var]],\n",
        "        y=[retornos_alvo[idx_min_var]],\n",
        "        mode='markers',\n",
        "        name='Mínima Variância',\n",
        "        marker=dict(color='green', size=12, symbol='star'),\n",
        "        hovertemplate=\"<b>Mínima Variância</b><br>Volatilidade: %{x:.2%}<br>Retorno: %{y:.2%}<extra></extra>\"\n",
        "    ))\n",
        "\n",
        "    # benchmark\n",
        "    fig.add_trace(go.Scatter(\n",
        "        x=[variancia_benchmark],\n",
        "        y=[retorno_esperado_benchmark],\n",
        "        mode='markers',\n",
        "        name='benchmark',\n",
        "        marker=dict(color='black', size=12, symbol='star'),\n",
        "        hovertemplate=\"<b>benchmark</b><br>Volatilidade: %{x:.2%}<br>Retorno: %{y:.2%}<extra></extra>\"\n",
        "    ))\n",
        "\n",
        "    # Portfólio de Máximo Sharpe\n",
        "    fig.add_trace(go.Scatter(\n",
        "        x=[volatilidade_max_sharpe],\n",
        "        y=[retorno_max_sharpe],\n",
        "        mode='markers',\n",
        "        name='Máximo Sharpe',\n",
        "        marker=dict(color='red', size=12, symbol='star'),\n",
        "        hovertemplate=\"<b>Máximo Sharpe</b><br>Volatilidade: %{x:.2%}<br>Retorno: %{y:.2%}<extra></extra>\"\n",
        "    ))\n",
        "\n",
        "    # Layout do gráfico\n",
        "    fig.update_layout(\n",
        "        title=\"Fronteira Eficiente de Markowitz\",\n",
        "        xaxis_title=\"Volatilidade (Risco)\",\n",
        "        yaxis_title=\"Retorno anualizado Esperado\",\n",
        "        #xaxis_range=[0, max(volatilidades) + 0.1],  # Adicionar um buffer\n",
        "        #yaxis_range=[min(retornos_alvo) - 0.1, max(retornos_alvo) + 0.1],# Adicionar um buffer\n",
        "        hovermode=\"x unified\",\n",
        "        template=\"plotly_white\",\n",
        "        showlegend=True,\n",
        "        legend=dict(orientation=\"h\", yanchor=\"bottom\", y=1.02, xanchor=\"right\", x=1)\n",
        "    )\n",
        "\n",
        "    # Exibir o gráfico\n",
        "    fig.show()\n",
        "\n",
        "if __name__ == \"__main__\":\n",
        "    # Entrada de dados do usuário\n",
        "    tickers = input(\"Digite os tickers dos ativos (separados por vírgula)\\n\").upper().strip('')\n",
        "    benchmark = input(\"Digite o benchmark\\n\").upper().strip('')\n",
        "    start = input(\"Digite a data de inicio do periodo (Formato YYYY-MM-DD): \").upper().strip('')\n",
        "    end = input(\"Digite a data de fim do periodo (Formato YYYY-MM-DD): \").upper().strip('')\n",
        "    taxa_livre_risco = float(input(\"Digite a taxa livre de risco anual (em decimal, ex: 0.03 para 3%): \"))\n",
        "\n",
        "    # Obter e processar dados\n",
        "    dados = obter_dados_ativos(tickers,benchmark)\n",
        "    retorno_esperado_ativos, matriz_cov, retorno_esperado_benchmark, variancia_benchmark   = calcular_retornos(dados)\n",
        "\n",
        "    # Calcular fronteira eficiente\n",
        "    retornos_alvo, volatilidades, pesos = fronteira_eficiente(retorno_esperado_ativos, matriz_cov)\n",
        "\n",
        "    # Otimizar portfólio de máxima Sharpe\n",
        "    pesos_max_sharpe = otimizar_sharpe_ratio(retorno_esperado_ativos, matriz_cov, taxa_livre_risco)\n",
        "\n",
        "    # Plotar gráfico interativo\n",
        "    plotar_fronteira_interativa(retornos_alvo, volatilidades, retorno_esperado_ativos, matriz_cov, pesos_max_sharpe, taxa_livre_risco)"
      ],
      "metadata": {
        "colab": {
          "base_uri": "https://localhost:8080/",
          "height": 698
        },
        "id": "pKZ0sA1KYErP",
        "outputId": "061df0bf-3414-4b7a-a8d6-5e9bc934c8e1"
      },
      "execution_count": null,
      "outputs": [
        {
          "name": "stdout",
          "output_type": "stream",
          "text": [
            "Digite os tickers dos ativos (separados por vírgula)\n",
            "ABEV3.SA, BBAS3.SA ,GGBR4.SA ,KLBN11.SA ,PETR3.SA ,PETR3.SA\n",
            "Digite o benchmark\n",
            "^BVSP\n",
            "Digite a data de inicio do periodo (Formato YYYY-MM-DD): 2021-01-01\n",
            "Digite a data de fim do periodo (Formato YYYY-MM-DD): 2022-01-01\n",
            "Digite a taxa livre de risco anual (em decimal, ex: 0.03 para 3%): 0.1325\n"
          ]
        },
        {
          "output_type": "stream",
          "name": "stderr",
          "text": [
            "[*********************100%***********************]  5 of 5 completed\n",
            "[*********************100%***********************]  1 of 1 completed\n"
          ]
        },
        {
          "output_type": "display_data",
          "data": {
            "text/html": [
              "<html>\n",
              "<head><meta charset=\"utf-8\" /></head>\n",
              "<body>\n",
              "    <div>            <script src=\"https://cdnjs.cloudflare.com/ajax/libs/mathjax/2.7.5/MathJax.js?config=TeX-AMS-MML_SVG\"></script><script type=\"text/javascript\">if (window.MathJax && window.MathJax.Hub && window.MathJax.Hub.Config) {window.MathJax.Hub.Config({SVG: {font: \"STIX-Web\"}});}</script>                <script type=\"text/javascript\">window.PlotlyConfig = {MathJaxConfig: 'local'};</script>\n",
              "        <script charset=\"utf-8\" src=\"https://cdn.plot.ly/plotly-2.35.2.min.js\"></script>                <div id=\"ade030b5-d461-4f96-93cc-d81d72b55853\" class=\"plotly-graph-div\" style=\"height:525px; width:100%;\"></div>            <script type=\"text/javascript\">                                    window.PLOTLYENV=window.PLOTLYENV || {};                                    if (document.getElementById(\"ade030b5-d461-4f96-93cc-d81d72b55853\")) {                    Plotly.newPlot(                        \"ade030b5-d461-4f96-93cc-d81d72b55853\",                        [{\"hovertemplate\":\"\\u003cb\\u003eVolatilidade:\\u003c\\u002fb\\u003e %{x:.2%}\\u003cbr\\u003e\\u003cb\\u003eRetorno:\\u003c\\u002fb\\u003e %{y:.2%}\\u003cextra\\u003e\\u003c\\u002fextra\\u003e\",\"line\":{\"color\":\"blue\",\"width\":2},\"marker\":{\"size\":5},\"mode\":\"lines+markers\",\"name\":\"Fronteira Eficiente\",\"x\":[0.3193159988219913,0.30967776862111906,0.3003080187564144,0.2912326594281884,0.28248007634466793,0.27408118811821935,0.26606949173774846,0.25848099283281556,0.2513540258599435,0.24472891514384826,0.23864746055722358,0.233152207547317,0.22828549290047256,0.2240882718521938,0.2205468292898826,0.21732050933795363,0.21434985728007214,0.2116456390607227,0.2092181861513532,0.20707723191212782,0.20523174268712538,0.20368974963727188,0.2024581874889696,0.20154320978826576,0.2009030916676744,0.20038762194203438,0.2000124948581264,0.19977162980340163,0.19962091690074413,0.19952409723191802,0.1994820952862065,0.19949206273042913,0.1995555074003714,0.19967239040500256,0.1998426191596868,0.20006605877577346,0.20034253264679594,0.2006718247319392,0.20105368544505134,0.2014878083109075,0.20197385839450196,0.20251146412698878,0.20310021855260552,0.20373968052524552,0.2044293761333718,0.2051688044455848,0.2059574847186993,0.20679390900945732,0.20767904831749484,0.20861226199447203,0.20959070914529787,0.21061686275977606,0.21171374794450812,0.21298156939136365,0.21444511168765804,0.2160956727496581,0.21792895261403467,0.219940325068592,0.22212490252734335,0.224477513088659,0.22699331506679715,0.22966639075235043,0.23249213004638578,0.2354646195797985,0.2385787919987145,0.24182830665920874,0.24520836766011156,0.24871375968480686,0.2523386224647751,0.2560816721056459,0.25993043006477473,0.2638835516454546,0.2679382524982378,0.27209001831296004,0.2763344454603051,0.2806620287685544,0.2850755361965316,0.28956867263099817,0.29413779798470263,0.29877944057845274,0.30349029173581105,0.30826719834699673,0.3131069804158095,0.3180312832643904,0.323049650101271,0.3281577654330188,0.3333522512866753,0.33862750086923227,0.3439804326507066,0.34940862712199505,0.35501432263487376,0.36133017638082005,0.36839303613877145,0.3761608265254916,0.38459083631021596,0.39364052265255794,0.4032681693343385,0.41343340136391515,0.42409756421061995,0.43522398256219097],\"y\":[-0.13366546398579415,-0.12813791672548175,-0.12261036946516932,-0.11708282220485691,-0.1115552749445445,-0.10602772768423208,-0.10050018042391967,-0.09497263316360725,-0.08944508590329484,-0.08391753864298242,-0.07838999138267,-0.0728624441223576,-0.06733489686204518,-0.06180734960173276,-0.056279802341420354,-0.050752255081107936,-0.04522470782079552,-0.0396971605604831,-0.03416961330017068,-0.028642066039858277,-0.02311451877954586,-0.01758697151923344,-0.012059424258921037,-0.0065318769986086045,-0.0010043297382962002,0.004523217522016204,0.010050764782328636,0.01557831204264104,0.021105859302953445,0.026633406563265877,0.03216095382357828,0.03768850108389071,0.04321604834420312,0.04874359560451552,0.054271142864827954,0.05979869012514036,0.06532623738545279,0.0708537846457652,0.0763813319060776,0.08190887916639003,0.08743642642670243,0.09296397368701484,0.09849152094732727,0.10401906820763968,0.10954661546795208,0.11507416272826451,0.12060170998857694,0.12612925724888935,0.13165680450920175,0.13718435176951416,0.14271189902982656,0.14823944629013902,0.15376699355045143,0.15929454081076383,0.16482208807107623,0.17034963533138864,0.17587718259170104,0.1814047298520135,0.1869322771123259,0.1924598243726383,0.19798737163295071,0.20351491889326312,0.20904246615357558,0.21457001341388798,0.2200975606742004,0.2256251079345128,0.2311526551948252,0.23668020245513766,0.24220774971545006,0.24773529697576246,0.25326284423607487,0.2587903914963873,0.26431793875669973,0.26984548601701214,0.27537303327732454,0.28090058053763695,0.28642812779794935,0.29195567505826175,0.2974832223185742,0.3030107695788866,0.308538316839199,0.3140658640995114,0.31959341135982383,0.3251209586201363,0.3306485058804487,0.3361760531407611,0.3417036004010735,0.3472311476613859,0.3527586949216983,0.3582862421820108,0.3638137894423232,0.3693413367026356,0.37486888396294804,0.3803964312232604,0.38592397848357285,0.3914515257438852,0.39697907300419766,0.4025066202645101,0.40803416752482247,0.4135617147851349],\"type\":\"scatter\"},{\"hovertemplate\":\"\\u003cb\\u003eMínima Variância\\u003c\\u002fb\\u003e\\u003cbr\\u003eVolatilidade: %{x:.2%}\\u003cbr\\u003eRetorno: %{y:.2%}\\u003cextra\\u003e\\u003c\\u002fextra\\u003e\",\"marker\":{\"color\":\"green\",\"size\":12,\"symbol\":\"star\"},\"mode\":\"markers\",\"name\":\"Mínima Variância\",\"x\":[0.1994820952862065],\"y\":[0.03216095382357828],\"type\":\"scatter\"},{\"hovertemplate\":\"\\u003cb\\u003ebenchmark\\u003c\\u002fb\\u003e\\u003cbr\\u003eVolatilidade: %{x:.2%}\\u003cbr\\u003eRetorno: %{y:.2%}\\u003cextra\\u003e\\u003c\\u002fextra\\u003e\",\"marker\":{\"color\":\"black\",\"size\":12,\"symbol\":\"star\"},\"mode\":\"markers\",\"name\":\"benchmark\",\"x\":[[0.00017423734653179883]],\"y\":[[-0.09891061783285182]],\"type\":\"scatter\"},{\"hovertemplate\":\"\\u003cb\\u003eMáximo Sharpe\\u003c\\u002fb\\u003e\\u003cbr\\u003eVolatilidade: %{x:.2%}\\u003cbr\\u003eRetorno: %{y:.2%}\\u003cextra\\u003e\\u003c\\u002fextra\\u003e\",\"marker\":{\"color\":\"red\",\"size\":12,\"symbol\":\"star\"},\"mode\":\"markers\",\"name\":\"Máximo Sharpe\",\"x\":[0.37952270905264357],\"y\":[0.38265166455925914],\"type\":\"scatter\"}],                        {\"template\":{\"data\":{\"barpolar\":[{\"marker\":{\"line\":{\"color\":\"white\",\"width\":0.5},\"pattern\":{\"fillmode\":\"overlay\",\"size\":10,\"solidity\":0.2}},\"type\":\"barpolar\"}],\"bar\":[{\"error_x\":{\"color\":\"#2a3f5f\"},\"error_y\":{\"color\":\"#2a3f5f\"},\"marker\":{\"line\":{\"color\":\"white\",\"width\":0.5},\"pattern\":{\"fillmode\":\"overlay\",\"size\":10,\"solidity\":0.2}},\"type\":\"bar\"}],\"carpet\":[{\"aaxis\":{\"endlinecolor\":\"#2a3f5f\",\"gridcolor\":\"#C8D4E3\",\"linecolor\":\"#C8D4E3\",\"minorgridcolor\":\"#C8D4E3\",\"startlinecolor\":\"#2a3f5f\"},\"baxis\":{\"endlinecolor\":\"#2a3f5f\",\"gridcolor\":\"#C8D4E3\",\"linecolor\":\"#C8D4E3\",\"minorgridcolor\":\"#C8D4E3\",\"startlinecolor\":\"#2a3f5f\"},\"type\":\"carpet\"}],\"choropleth\":[{\"colorbar\":{\"outlinewidth\":0,\"ticks\":\"\"},\"type\":\"choropleth\"}],\"contourcarpet\":[{\"colorbar\":{\"outlinewidth\":0,\"ticks\":\"\"},\"type\":\"contourcarpet\"}],\"contour\":[{\"colorbar\":{\"outlinewidth\":0,\"ticks\":\"\"},\"colorscale\":[[0.0,\"#0d0887\"],[0.1111111111111111,\"#46039f\"],[0.2222222222222222,\"#7201a8\"],[0.3333333333333333,\"#9c179e\"],[0.4444444444444444,\"#bd3786\"],[0.5555555555555556,\"#d8576b\"],[0.6666666666666666,\"#ed7953\"],[0.7777777777777778,\"#fb9f3a\"],[0.8888888888888888,\"#fdca26\"],[1.0,\"#f0f921\"]],\"type\":\"contour\"}],\"heatmapgl\":[{\"colorbar\":{\"outlinewidth\":0,\"ticks\":\"\"},\"colorscale\":[[0.0,\"#0d0887\"],[0.1111111111111111,\"#46039f\"],[0.2222222222222222,\"#7201a8\"],[0.3333333333333333,\"#9c179e\"],[0.4444444444444444,\"#bd3786\"],[0.5555555555555556,\"#d8576b\"],[0.6666666666666666,\"#ed7953\"],[0.7777777777777778,\"#fb9f3a\"],[0.8888888888888888,\"#fdca26\"],[1.0,\"#f0f921\"]],\"type\":\"heatmapgl\"}],\"heatmap\":[{\"colorbar\":{\"outlinewidth\":0,\"ticks\":\"\"},\"colorscale\":[[0.0,\"#0d0887\"],[0.1111111111111111,\"#46039f\"],[0.2222222222222222,\"#7201a8\"],[0.3333333333333333,\"#9c179e\"],[0.4444444444444444,\"#bd3786\"],[0.5555555555555556,\"#d8576b\"],[0.6666666666666666,\"#ed7953\"],[0.7777777777777778,\"#fb9f3a\"],[0.8888888888888888,\"#fdca26\"],[1.0,\"#f0f921\"]],\"type\":\"heatmap\"}],\"histogram2dcontour\":[{\"colorbar\":{\"outlinewidth\":0,\"ticks\":\"\"},\"colorscale\":[[0.0,\"#0d0887\"],[0.1111111111111111,\"#46039f\"],[0.2222222222222222,\"#7201a8\"],[0.3333333333333333,\"#9c179e\"],[0.4444444444444444,\"#bd3786\"],[0.5555555555555556,\"#d8576b\"],[0.6666666666666666,\"#ed7953\"],[0.7777777777777778,\"#fb9f3a\"],[0.8888888888888888,\"#fdca26\"],[1.0,\"#f0f921\"]],\"type\":\"histogram2dcontour\"}],\"histogram2d\":[{\"colorbar\":{\"outlinewidth\":0,\"ticks\":\"\"},\"colorscale\":[[0.0,\"#0d0887\"],[0.1111111111111111,\"#46039f\"],[0.2222222222222222,\"#7201a8\"],[0.3333333333333333,\"#9c179e\"],[0.4444444444444444,\"#bd3786\"],[0.5555555555555556,\"#d8576b\"],[0.6666666666666666,\"#ed7953\"],[0.7777777777777778,\"#fb9f3a\"],[0.8888888888888888,\"#fdca26\"],[1.0,\"#f0f921\"]],\"type\":\"histogram2d\"}],\"histogram\":[{\"marker\":{\"pattern\":{\"fillmode\":\"overlay\",\"size\":10,\"solidity\":0.2}},\"type\":\"histogram\"}],\"mesh3d\":[{\"colorbar\":{\"outlinewidth\":0,\"ticks\":\"\"},\"type\":\"mesh3d\"}],\"parcoords\":[{\"line\":{\"colorbar\":{\"outlinewidth\":0,\"ticks\":\"\"}},\"type\":\"parcoords\"}],\"pie\":[{\"automargin\":true,\"type\":\"pie\"}],\"scatter3d\":[{\"line\":{\"colorbar\":{\"outlinewidth\":0,\"ticks\":\"\"}},\"marker\":{\"colorbar\":{\"outlinewidth\":0,\"ticks\":\"\"}},\"type\":\"scatter3d\"}],\"scattercarpet\":[{\"marker\":{\"colorbar\":{\"outlinewidth\":0,\"ticks\":\"\"}},\"type\":\"scattercarpet\"}],\"scattergeo\":[{\"marker\":{\"colorbar\":{\"outlinewidth\":0,\"ticks\":\"\"}},\"type\":\"scattergeo\"}],\"scattergl\":[{\"marker\":{\"colorbar\":{\"outlinewidth\":0,\"ticks\":\"\"}},\"type\":\"scattergl\"}],\"scattermapbox\":[{\"marker\":{\"colorbar\":{\"outlinewidth\":0,\"ticks\":\"\"}},\"type\":\"scattermapbox\"}],\"scatterpolargl\":[{\"marker\":{\"colorbar\":{\"outlinewidth\":0,\"ticks\":\"\"}},\"type\":\"scatterpolargl\"}],\"scatterpolar\":[{\"marker\":{\"colorbar\":{\"outlinewidth\":0,\"ticks\":\"\"}},\"type\":\"scatterpolar\"}],\"scatter\":[{\"fillpattern\":{\"fillmode\":\"overlay\",\"size\":10,\"solidity\":0.2},\"type\":\"scatter\"}],\"scatterternary\":[{\"marker\":{\"colorbar\":{\"outlinewidth\":0,\"ticks\":\"\"}},\"type\":\"scatterternary\"}],\"surface\":[{\"colorbar\":{\"outlinewidth\":0,\"ticks\":\"\"},\"colorscale\":[[0.0,\"#0d0887\"],[0.1111111111111111,\"#46039f\"],[0.2222222222222222,\"#7201a8\"],[0.3333333333333333,\"#9c179e\"],[0.4444444444444444,\"#bd3786\"],[0.5555555555555556,\"#d8576b\"],[0.6666666666666666,\"#ed7953\"],[0.7777777777777778,\"#fb9f3a\"],[0.8888888888888888,\"#fdca26\"],[1.0,\"#f0f921\"]],\"type\":\"surface\"}],\"table\":[{\"cells\":{\"fill\":{\"color\":\"#EBF0F8\"},\"line\":{\"color\":\"white\"}},\"header\":{\"fill\":{\"color\":\"#C8D4E3\"},\"line\":{\"color\":\"white\"}},\"type\":\"table\"}]},\"layout\":{\"annotationdefaults\":{\"arrowcolor\":\"#2a3f5f\",\"arrowhead\":0,\"arrowwidth\":1},\"autotypenumbers\":\"strict\",\"coloraxis\":{\"colorbar\":{\"outlinewidth\":0,\"ticks\":\"\"}},\"colorscale\":{\"diverging\":[[0,\"#8e0152\"],[0.1,\"#c51b7d\"],[0.2,\"#de77ae\"],[0.3,\"#f1b6da\"],[0.4,\"#fde0ef\"],[0.5,\"#f7f7f7\"],[0.6,\"#e6f5d0\"],[0.7,\"#b8e186\"],[0.8,\"#7fbc41\"],[0.9,\"#4d9221\"],[1,\"#276419\"]],\"sequential\":[[0.0,\"#0d0887\"],[0.1111111111111111,\"#46039f\"],[0.2222222222222222,\"#7201a8\"],[0.3333333333333333,\"#9c179e\"],[0.4444444444444444,\"#bd3786\"],[0.5555555555555556,\"#d8576b\"],[0.6666666666666666,\"#ed7953\"],[0.7777777777777778,\"#fb9f3a\"],[0.8888888888888888,\"#fdca26\"],[1.0,\"#f0f921\"]],\"sequentialminus\":[[0.0,\"#0d0887\"],[0.1111111111111111,\"#46039f\"],[0.2222222222222222,\"#7201a8\"],[0.3333333333333333,\"#9c179e\"],[0.4444444444444444,\"#bd3786\"],[0.5555555555555556,\"#d8576b\"],[0.6666666666666666,\"#ed7953\"],[0.7777777777777778,\"#fb9f3a\"],[0.8888888888888888,\"#fdca26\"],[1.0,\"#f0f921\"]]},\"colorway\":[\"#636efa\",\"#EF553B\",\"#00cc96\",\"#ab63fa\",\"#FFA15A\",\"#19d3f3\",\"#FF6692\",\"#B6E880\",\"#FF97FF\",\"#FECB52\"],\"font\":{\"color\":\"#2a3f5f\"},\"geo\":{\"bgcolor\":\"white\",\"lakecolor\":\"white\",\"landcolor\":\"white\",\"showlakes\":true,\"showland\":true,\"subunitcolor\":\"#C8D4E3\"},\"hoverlabel\":{\"align\":\"left\"},\"hovermode\":\"closest\",\"mapbox\":{\"style\":\"light\"},\"paper_bgcolor\":\"white\",\"plot_bgcolor\":\"white\",\"polar\":{\"angularaxis\":{\"gridcolor\":\"#EBF0F8\",\"linecolor\":\"#EBF0F8\",\"ticks\":\"\"},\"bgcolor\":\"white\",\"radialaxis\":{\"gridcolor\":\"#EBF0F8\",\"linecolor\":\"#EBF0F8\",\"ticks\":\"\"}},\"scene\":{\"xaxis\":{\"backgroundcolor\":\"white\",\"gridcolor\":\"#DFE8F3\",\"gridwidth\":2,\"linecolor\":\"#EBF0F8\",\"showbackground\":true,\"ticks\":\"\",\"zerolinecolor\":\"#EBF0F8\"},\"yaxis\":{\"backgroundcolor\":\"white\",\"gridcolor\":\"#DFE8F3\",\"gridwidth\":2,\"linecolor\":\"#EBF0F8\",\"showbackground\":true,\"ticks\":\"\",\"zerolinecolor\":\"#EBF0F8\"},\"zaxis\":{\"backgroundcolor\":\"white\",\"gridcolor\":\"#DFE8F3\",\"gridwidth\":2,\"linecolor\":\"#EBF0F8\",\"showbackground\":true,\"ticks\":\"\",\"zerolinecolor\":\"#EBF0F8\"}},\"shapedefaults\":{\"line\":{\"color\":\"#2a3f5f\"}},\"ternary\":{\"aaxis\":{\"gridcolor\":\"#DFE8F3\",\"linecolor\":\"#A2B1C6\",\"ticks\":\"\"},\"baxis\":{\"gridcolor\":\"#DFE8F3\",\"linecolor\":\"#A2B1C6\",\"ticks\":\"\"},\"bgcolor\":\"white\",\"caxis\":{\"gridcolor\":\"#DFE8F3\",\"linecolor\":\"#A2B1C6\",\"ticks\":\"\"}},\"title\":{\"x\":0.05},\"xaxis\":{\"automargin\":true,\"gridcolor\":\"#EBF0F8\",\"linecolor\":\"#EBF0F8\",\"ticks\":\"\",\"title\":{\"standoff\":15},\"zerolinecolor\":\"#EBF0F8\",\"zerolinewidth\":2},\"yaxis\":{\"automargin\":true,\"gridcolor\":\"#EBF0F8\",\"linecolor\":\"#EBF0F8\",\"ticks\":\"\",\"title\":{\"standoff\":15},\"zerolinecolor\":\"#EBF0F8\",\"zerolinewidth\":2}}},\"xaxis\":{\"title\":{\"text\":\"Volatilidade (Risco)\"},\"range\":[0,0.535223982562191]},\"yaxis\":{\"title\":{\"text\":\"Retorno Esperado\"},\"range\":[-0.23366546398579416,0.5135617147851349]},\"legend\":{\"orientation\":\"h\",\"yanchor\":\"bottom\",\"y\":1.02,\"xanchor\":\"right\",\"x\":1},\"title\":{\"text\":\"Fronteira Eficiente de Markowitz\"},\"hovermode\":\"x unified\",\"showlegend\":true},                        {\"responsive\": true}                    ).then(function(){\n",
              "                            \n",
              "var gd = document.getElementById('ade030b5-d461-4f96-93cc-d81d72b55853');\n",
              "var x = new MutationObserver(function (mutations, observer) {{\n",
              "        var display = window.getComputedStyle(gd).display;\n",
              "        if (!display || display === 'none') {{\n",
              "            console.log([gd, 'removed!']);\n",
              "            Plotly.purge(gd);\n",
              "            observer.disconnect();\n",
              "        }}\n",
              "}});\n",
              "\n",
              "// Listen for the removal of the full notebook cells\n",
              "var notebookContainer = gd.closest('#notebook-container');\n",
              "if (notebookContainer) {{\n",
              "    x.observe(notebookContainer, {childList: true});\n",
              "}}\n",
              "\n",
              "// Listen for the clearing of the current output cell\n",
              "var outputEl = gd.closest('.output');\n",
              "if (outputEl) {{\n",
              "    x.observe(outputEl, {childList: true});\n",
              "}}\n",
              "\n",
              "                        })                };                            </script>        </div>\n",
              "</body>\n",
              "</html>"
            ]
          },
          "metadata": {}
        }
      ]
    },
    {
      "cell_type": "code",
      "source": [
        "volatilidade_max_sharpe"
      ],
      "metadata": {
        "colab": {
          "base_uri": "https://localhost:8080/",
          "height": 141
        },
        "id": "QgGXnGg3rDpi",
        "outputId": "d60c16bf-5856-434b-b64c-45e9920250f7"
      },
      "execution_count": null,
      "outputs": [
        {
          "output_type": "error",
          "ename": "NameError",
          "evalue": "name 'volatilidade_max_sharpe' is not defined",
          "traceback": [
            "\u001b[0;31m---------------------------------------------------------------------------\u001b[0m",
            "\u001b[0;31mNameError\u001b[0m                                 Traceback (most recent call last)",
            "\u001b[0;32m<ipython-input-50-dd09993e0f6f>\u001b[0m in \u001b[0;36m<cell line: 0>\u001b[0;34m()\u001b[0m\n\u001b[0;32m----> 1\u001b[0;31m \u001b[0mvolatilidade_max_sharpe\u001b[0m\u001b[0;34m\u001b[0m\u001b[0;34m\u001b[0m\u001b[0m\n\u001b[0m",
            "\u001b[0;31mNameError\u001b[0m: name 'volatilidade_max_sharpe' is not defined"
          ]
        }
      ]
    },
    {
      "cell_type": "code",
      "source": [
        "retorno_esperado_benchmark*100"
      ],
      "metadata": {
        "colab": {
          "base_uri": "https://localhost:8080/",
          "height": 147
        },
        "id": "mKMGuZA3W1In",
        "outputId": "d41440ac-c860-498a-d65d-bc7795e05523"
      },
      "execution_count": null,
      "outputs": [
        {
          "output_type": "execute_result",
          "data": {
            "text/plain": [
              "Ticker\n",
              "^BVSP   -9.891062\n",
              "dtype: float64"
            ],
            "text/html": [
              "<div>\n",
              "<style scoped>\n",
              "    .dataframe tbody tr th:only-of-type {\n",
              "        vertical-align: middle;\n",
              "    }\n",
              "\n",
              "    .dataframe tbody tr th {\n",
              "        vertical-align: top;\n",
              "    }\n",
              "\n",
              "    .dataframe thead th {\n",
              "        text-align: right;\n",
              "    }\n",
              "</style>\n",
              "<table border=\"1\" class=\"dataframe\">\n",
              "  <thead>\n",
              "    <tr style=\"text-align: right;\">\n",
              "      <th></th>\n",
              "      <th>0</th>\n",
              "    </tr>\n",
              "    <tr>\n",
              "      <th>Ticker</th>\n",
              "      <th></th>\n",
              "    </tr>\n",
              "  </thead>\n",
              "  <tbody>\n",
              "    <tr>\n",
              "      <th>^BVSP</th>\n",
              "      <td>-9.891062</td>\n",
              "    </tr>\n",
              "  </tbody>\n",
              "</table>\n",
              "</div><br><label><b>dtype:</b> float64</label>"
            ]
          },
          "metadata": {},
          "execution_count": 43
        }
      ]
    },
    {
      "cell_type": "code",
      "source": [
        "volatilidade_max_sharpe = np.sqrt(calcular_variancia(pesos_max_sharpe, matriz_cov))\n",
        "volatilidade_max_sharpe"
      ],
      "metadata": {
        "colab": {
          "base_uri": "https://localhost:8080/"
        },
        "id": "-O_rqcb2gOI9",
        "outputId": "a53966bf-78a7-4a53-facb-3979e9861eab"
      },
      "execution_count": null,
      "outputs": [
        {
          "output_type": "execute_result",
          "data": {
            "text/plain": [
              "np.float64(0.37952270905264357)"
            ]
          },
          "metadata": {},
          "execution_count": 51
        }
      ]
    }
  ]
}